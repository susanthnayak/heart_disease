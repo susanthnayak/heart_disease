{
  "nbformat": 4,
  "nbformat_minor": 0,
  "metadata": {
    "colab": {
      "name": "Heart_Disease _Prediction.ipynb",
      "provenance": []
    },
    "kernelspec": {
      "name": "python3",
      "display_name": "Python 3"
    },
    "language_info": {
      "name": "python"
    }
  },
  "cells": [
    {
      "cell_type": "markdown",
      "metadata": {
        "id": "9byuMJ0XMbWl"
      },
      "source": [
        "Importing the dependencies"
      ]
    },
    {
      "cell_type": "code",
      "metadata": {
        "id": "wy16cTgKMjUy"
      },
      "source": [
        "import warnings\n",
        "warnings.filterwarnings('ignore')\n",
        "\n",
        "# data wrangling & pre-processing\n",
        "import pandas as pd\n",
        "import numpy as np\n",
        "\n",
        "# data visualization\n",
        "import matplotlib.pyplot as plt\n",
        "%matplotlib inline\n",
        "import seaborn as sns\n",
        "\n",
        "from sklearn.model_selection import train_test_split\n",
        "\n",
        "#model validation\n",
        "from sklearn.metrics import log_loss,roc_auc_score,precision_score,f1_score,recall_score,roc_curve,auc\n",
        "from sklearn.metrics import classification_report, confusion_matrix,accuracy_score,fbeta_score,matthews_corrcoef\n",
        "from sklearn import metrics\n",
        "\n",
        "# cross validation\n",
        "from sklearn.model_selection import StratifiedKFold\n",
        "\n",
        "# machine learning algorithms\n",
        "from sklearn.linear_model import LogisticRegression\n",
        "from sklearn.ensemble import RandomForestClassifier,VotingClassifier,AdaBoostClassifier,GradientBoostingClassifier,RandomForestClassifier,ExtraTreesClassifier\n",
        "from sklearn.neural_network import MLPClassifier\n",
        "from sklearn.tree import DecisionTreeClassifier\n",
        "from sklearn.linear_model import SGDClassifier\n",
        "from sklearn.svm import SVC \n",
        "import xgboost as xgb\n",
        "\n",
        "from scipy import stats"
      ],
      "execution_count": null,
      "outputs": []
    },
    {
      "cell_type": "code",
      "metadata": {
        "id": "jtsj91BZM_qP"
      },
      "source": [
        ""
      ],
      "execution_count": null,
      "outputs": []
    },
    {
      "cell_type": "markdown",
      "metadata": {
        "id": "icd_RYfmNSAk"
      },
      "source": [
        "Loading the heart dataset into pandas dataframe"
      ]
    },
    {
      "cell_type": "code",
      "metadata": {
        "id": "BoZy-K9BNbB1"
      },
      "source": [
        "data = pd.read_csv(\"/content/HEART.csv\")"
      ],
      "execution_count": null,
      "outputs": []
    },
    {
      "cell_type": "markdown",
      "metadata": {
        "id": "MQEScFUhNovA"
      },
      "source": [
        "First five rows of the dataset"
      ]
    },
    {
      "cell_type": "code",
      "metadata": {
        "colab": {
          "base_uri": "https://localhost:8080/",
          "height": 204
        },
        "id": "DFw_yRNMNums",
        "outputId": "9090d519-6c01-49b1-e006-c55db7183607"
      },
      "source": [
        "data.head()"
      ],
      "execution_count": null,
      "outputs": [
        {
          "output_type": "execute_result",
          "data": {
            "text/html": [
              "<div>\n",
              "<style scoped>\n",
              "    .dataframe tbody tr th:only-of-type {\n",
              "        vertical-align: middle;\n",
              "    }\n",
              "\n",
              "    .dataframe tbody tr th {\n",
              "        vertical-align: top;\n",
              "    }\n",
              "\n",
              "    .dataframe thead th {\n",
              "        text-align: right;\n",
              "    }\n",
              "</style>\n",
              "<table border=\"1\" class=\"dataframe\">\n",
              "  <thead>\n",
              "    <tr style=\"text-align: right;\">\n",
              "      <th></th>\n",
              "      <th>age</th>\n",
              "      <th>sex</th>\n",
              "      <th>chest pain type</th>\n",
              "      <th>resting bp s</th>\n",
              "      <th>cholesterol</th>\n",
              "      <th>fasting blood sugar</th>\n",
              "      <th>resting ecg</th>\n",
              "      <th>max heart rate</th>\n",
              "      <th>exercise angina</th>\n",
              "      <th>oldpeak</th>\n",
              "      <th>ST slope</th>\n",
              "      <th>target</th>\n",
              "    </tr>\n",
              "  </thead>\n",
              "  <tbody>\n",
              "    <tr>\n",
              "      <th>0</th>\n",
              "      <td>40</td>\n",
              "      <td>1</td>\n",
              "      <td>2</td>\n",
              "      <td>140</td>\n",
              "      <td>289</td>\n",
              "      <td>0</td>\n",
              "      <td>0</td>\n",
              "      <td>172</td>\n",
              "      <td>0</td>\n",
              "      <td>0.0</td>\n",
              "      <td>1</td>\n",
              "      <td>0</td>\n",
              "    </tr>\n",
              "    <tr>\n",
              "      <th>1</th>\n",
              "      <td>49</td>\n",
              "      <td>0</td>\n",
              "      <td>3</td>\n",
              "      <td>160</td>\n",
              "      <td>180</td>\n",
              "      <td>0</td>\n",
              "      <td>0</td>\n",
              "      <td>156</td>\n",
              "      <td>0</td>\n",
              "      <td>1.0</td>\n",
              "      <td>2</td>\n",
              "      <td>1</td>\n",
              "    </tr>\n",
              "    <tr>\n",
              "      <th>2</th>\n",
              "      <td>37</td>\n",
              "      <td>1</td>\n",
              "      <td>2</td>\n",
              "      <td>130</td>\n",
              "      <td>283</td>\n",
              "      <td>0</td>\n",
              "      <td>1</td>\n",
              "      <td>98</td>\n",
              "      <td>0</td>\n",
              "      <td>0.0</td>\n",
              "      <td>1</td>\n",
              "      <td>0</td>\n",
              "    </tr>\n",
              "    <tr>\n",
              "      <th>3</th>\n",
              "      <td>48</td>\n",
              "      <td>0</td>\n",
              "      <td>4</td>\n",
              "      <td>138</td>\n",
              "      <td>214</td>\n",
              "      <td>0</td>\n",
              "      <td>0</td>\n",
              "      <td>108</td>\n",
              "      <td>1</td>\n",
              "      <td>1.5</td>\n",
              "      <td>2</td>\n",
              "      <td>1</td>\n",
              "    </tr>\n",
              "    <tr>\n",
              "      <th>4</th>\n",
              "      <td>54</td>\n",
              "      <td>1</td>\n",
              "      <td>3</td>\n",
              "      <td>150</td>\n",
              "      <td>195</td>\n",
              "      <td>0</td>\n",
              "      <td>0</td>\n",
              "      <td>122</td>\n",
              "      <td>0</td>\n",
              "      <td>0.0</td>\n",
              "      <td>1</td>\n",
              "      <td>0</td>\n",
              "    </tr>\n",
              "  </tbody>\n",
              "</table>\n",
              "</div>"
            ],
            "text/plain": [
              "   age  sex  chest pain type  ...  oldpeak  ST slope  target\n",
              "0   40    1                2  ...      0.0         1       0\n",
              "1   49    0                3  ...      1.0         2       1\n",
              "2   37    1                2  ...      0.0         1       0\n",
              "3   48    0                4  ...      1.5         2       1\n",
              "4   54    1                3  ...      0.0         1       0\n",
              "\n",
              "[5 rows x 12 columns]"
            ]
          },
          "metadata": {},
          "execution_count": 3
        }
      ]
    },
    {
      "cell_type": "markdown",
      "metadata": {
        "id": "BUXslUQtOIvM"
      },
      "source": [
        "NUmber of rows and columns of the data set"
      ]
    },
    {
      "cell_type": "code",
      "metadata": {
        "colab": {
          "base_uri": "https://localhost:8080/"
        },
        "id": "iidqJi5FNylp",
        "outputId": "c0ded64b-6218-408f-f1d8-ad65c05f913d"
      },
      "source": [
        "data.shape"
      ],
      "execution_count": null,
      "outputs": [
        {
          "output_type": "execute_result",
          "data": {
            "text/plain": [
              "(1190, 12)"
            ]
          },
          "metadata": {},
          "execution_count": 4
        }
      ]
    },
    {
      "cell_type": "markdown",
      "metadata": {
        "id": "_STifSTxOXur"
      },
      "source": [
        "Data cleaning \n",
        "\n",
        "Let's rename the columns as some columns are so long"
      ]
    },
    {
      "cell_type": "code",
      "metadata": {
        "id": "bcZQsth4ORBO"
      },
      "source": [
        "# renaming features to proper name\n",
        "data.columns = ['age', 'sex', 'chest_pain_type', 'resting_blood_pressure', 'cholesterol', 'fasting_blood_sugar', 'rest_ecg', 'max_heart_rate_achieved',\n",
        "       'exercise_induced_angina', 'st_depression', 'st_slope','target']"
      ],
      "execution_count": null,
      "outputs": []
    },
    {
      "cell_type": "code",
      "metadata": {
        "id": "8jqG-YTOOydF"
      },
      "source": [
        "# converting features to categorical features because it will be easy to understand\n",
        "\n",
        "data['chest_pain_type'][data['chest_pain_type'] == 1] = 'typical angina'\n",
        "data['chest_pain_type'][data['chest_pain_type'] == 2] = 'atypical angina'\n",
        "data['chest_pain_type'][data['chest_pain_type'] == 3] = 'non-anginal pain'\n",
        "data['chest_pain_type'][data['chest_pain_type'] == 4] = 'asymptomatic'\n",
        "\n",
        "\n",
        "\n",
        "data['rest_ecg'][data['rest_ecg'] == 0] = 'normal'\n",
        "data['rest_ecg'][data['rest_ecg'] == 1] = 'ST-T wave abnormality'\n",
        "data['rest_ecg'][data['rest_ecg'] == 2] = 'left ventricular hypertrophy'\n",
        "\n",
        "\n",
        "\n",
        "data['st_slope'][data['st_slope'] == 1] = 'upsloping'\n",
        "data['st_slope'][data['st_slope'] == 2] = 'flat'\n",
        "data['st_slope'][data['st_slope'] == 3] = 'downsloping'\n",
        "\n",
        "data[\"sex\"] = data.sex.apply(lambda  x:'male' if x==1 else 'female')"
      ],
      "execution_count": null,
      "outputs": []
    },
    {
      "cell_type": "markdown",
      "metadata": {
        "id": "CFmm9x9yP2lZ"
      },
      "source": [
        "People with different type of chest pain"
      ]
    },
    {
      "cell_type": "code",
      "metadata": {
        "colab": {
          "base_uri": "https://localhost:8080/"
        },
        "id": "MtTwt815PME2",
        "outputId": "ea055d5a-6580-4b13-f03d-bb68bc478e02"
      },
      "source": [
        "data['chest_pain_type'].value_counts()"
      ],
      "execution_count": null,
      "outputs": [
        {
          "output_type": "execute_result",
          "data": {
            "text/plain": [
              "asymptomatic        625\n",
              "non-anginal pain    283\n",
              "atypical angina     216\n",
              "typical angina       66\n",
              "Name: chest_pain_type, dtype: int64"
            ]
          },
          "metadata": {},
          "execution_count": 10
        }
      ]
    },
    {
      "cell_type": "markdown",
      "metadata": {
        "id": "laCbnjnZQuwo"
      },
      "source": [
        "Different type of rest_ecg"
      ]
    },
    {
      "cell_type": "code",
      "metadata": {
        "colab": {
          "base_uri": "https://localhost:8080/"
        },
        "id": "lsspUyeuP-z2",
        "outputId": "c13f8e14-56ac-4652-9c5c-96f3c5c46a4f"
      },
      "source": [
        "data['rest_ecg'].value_counts()"
      ],
      "execution_count": null,
      "outputs": [
        {
          "output_type": "execute_result",
          "data": {
            "text/plain": [
              "normal                          684\n",
              "left ventricular hypertrophy    325\n",
              "ST-T wave abnormality           181\n",
              "Name: rest_ecg, dtype: int64"
            ]
          },
          "metadata": {},
          "execution_count": 11
        }
      ]
    },
    {
      "cell_type": "code",
      "metadata": {
        "colab": {
          "base_uri": "https://localhost:8080/"
        },
        "id": "nzxUrJvMQ1t_",
        "outputId": "88502ae8-2a0b-47f7-9254-84299c6dcc79"
      },
      "source": [
        "data['st_slope'].value_counts()"
      ],
      "execution_count": null,
      "outputs": [
        {
          "output_type": "execute_result",
          "data": {
            "text/plain": [
              "flat           582\n",
              "upsloping      526\n",
              "downsloping     81\n",
              "0                1\n",
              "Name: st_slope, dtype: int64"
            ]
          },
          "metadata": {},
          "execution_count": 13
        }
      ]
    },
    {
      "cell_type": "code",
      "metadata": {
        "colab": {
          "base_uri": "https://localhost:8080/"
        },
        "id": "X5iMhydsQ70k",
        "outputId": "c2c16b09-e91d-42c3-ab35-915ba4b3c8c5"
      },
      "source": [
        "#dropping row with st_slope =0\n",
        "data.drop(data[data.st_slope ==0].index, inplace=True)\n",
        "#checking distribution\n",
        "data['st_slope'].value_counts()"
      ],
      "execution_count": null,
      "outputs": [
        {
          "output_type": "execute_result",
          "data": {
            "text/plain": [
              "flat           582\n",
              "upsloping      526\n",
              "downsloping     81\n",
              "Name: st_slope, dtype: int64"
            ]
          },
          "metadata": {},
          "execution_count": 15
        }
      ]
    },
    {
      "cell_type": "code",
      "metadata": {
        "colab": {
          "base_uri": "https://localhost:8080/",
          "height": 241
        },
        "id": "rQV_gMb4RDWk",
        "outputId": "57afb57f-b931-4c65-d279-c8559e2db80e"
      },
      "source": [
        "# checking the top 5 entries of dataset after feature encoding\n",
        "data.head()"
      ],
      "execution_count": null,
      "outputs": [
        {
          "output_type": "execute_result",
          "data": {
            "text/html": [
              "<div>\n",
              "<style scoped>\n",
              "    .dataframe tbody tr th:only-of-type {\n",
              "        vertical-align: middle;\n",
              "    }\n",
              "\n",
              "    .dataframe tbody tr th {\n",
              "        vertical-align: top;\n",
              "    }\n",
              "\n",
              "    .dataframe thead th {\n",
              "        text-align: right;\n",
              "    }\n",
              "</style>\n",
              "<table border=\"1\" class=\"dataframe\">\n",
              "  <thead>\n",
              "    <tr style=\"text-align: right;\">\n",
              "      <th></th>\n",
              "      <th>age</th>\n",
              "      <th>sex</th>\n",
              "      <th>chest_pain_type</th>\n",
              "      <th>resting_blood_pressure</th>\n",
              "      <th>cholesterol</th>\n",
              "      <th>fasting_blood_sugar</th>\n",
              "      <th>rest_ecg</th>\n",
              "      <th>max_heart_rate_achieved</th>\n",
              "      <th>exercise_induced_angina</th>\n",
              "      <th>st_depression</th>\n",
              "      <th>st_slope</th>\n",
              "      <th>target</th>\n",
              "    </tr>\n",
              "  </thead>\n",
              "  <tbody>\n",
              "    <tr>\n",
              "      <th>0</th>\n",
              "      <td>40</td>\n",
              "      <td>male</td>\n",
              "      <td>atypical angina</td>\n",
              "      <td>140</td>\n",
              "      <td>289</td>\n",
              "      <td>0</td>\n",
              "      <td>normal</td>\n",
              "      <td>172</td>\n",
              "      <td>0</td>\n",
              "      <td>0.0</td>\n",
              "      <td>upsloping</td>\n",
              "      <td>0</td>\n",
              "    </tr>\n",
              "    <tr>\n",
              "      <th>1</th>\n",
              "      <td>49</td>\n",
              "      <td>female</td>\n",
              "      <td>non-anginal pain</td>\n",
              "      <td>160</td>\n",
              "      <td>180</td>\n",
              "      <td>0</td>\n",
              "      <td>normal</td>\n",
              "      <td>156</td>\n",
              "      <td>0</td>\n",
              "      <td>1.0</td>\n",
              "      <td>flat</td>\n",
              "      <td>1</td>\n",
              "    </tr>\n",
              "    <tr>\n",
              "      <th>2</th>\n",
              "      <td>37</td>\n",
              "      <td>male</td>\n",
              "      <td>atypical angina</td>\n",
              "      <td>130</td>\n",
              "      <td>283</td>\n",
              "      <td>0</td>\n",
              "      <td>ST-T wave abnormality</td>\n",
              "      <td>98</td>\n",
              "      <td>0</td>\n",
              "      <td>0.0</td>\n",
              "      <td>upsloping</td>\n",
              "      <td>0</td>\n",
              "    </tr>\n",
              "    <tr>\n",
              "      <th>3</th>\n",
              "      <td>48</td>\n",
              "      <td>female</td>\n",
              "      <td>asymptomatic</td>\n",
              "      <td>138</td>\n",
              "      <td>214</td>\n",
              "      <td>0</td>\n",
              "      <td>normal</td>\n",
              "      <td>108</td>\n",
              "      <td>1</td>\n",
              "      <td>1.5</td>\n",
              "      <td>flat</td>\n",
              "      <td>1</td>\n",
              "    </tr>\n",
              "    <tr>\n",
              "      <th>4</th>\n",
              "      <td>54</td>\n",
              "      <td>male</td>\n",
              "      <td>non-anginal pain</td>\n",
              "      <td>150</td>\n",
              "      <td>195</td>\n",
              "      <td>0</td>\n",
              "      <td>normal</td>\n",
              "      <td>122</td>\n",
              "      <td>0</td>\n",
              "      <td>0.0</td>\n",
              "      <td>upsloping</td>\n",
              "      <td>0</td>\n",
              "    </tr>\n",
              "  </tbody>\n",
              "</table>\n",
              "</div>"
            ],
            "text/plain": [
              "   age     sex   chest_pain_type  ...  st_depression   st_slope  target\n",
              "0   40    male   atypical angina  ...            0.0  upsloping       0\n",
              "1   49  female  non-anginal pain  ...            1.0       flat       1\n",
              "2   37    male   atypical angina  ...            0.0  upsloping       0\n",
              "3   48  female      asymptomatic  ...            1.5       flat       1\n",
              "4   54    male  non-anginal pain  ...            0.0  upsloping       0\n",
              "\n",
              "[5 rows x 12 columns]"
            ]
          },
          "metadata": {},
          "execution_count": 17
        }
      ]
    },
    {
      "cell_type": "markdown",
      "metadata": {
        "id": "O92BSNbtRXvb"
      },
      "source": [
        "Checking missing values"
      ]
    },
    {
      "cell_type": "code",
      "metadata": {
        "colab": {
          "base_uri": "https://localhost:8080/"
        },
        "id": "K4xnjApSRQWM",
        "outputId": "e09e4540-e477-4a44-adc4-8e6ccec78e88"
      },
      "source": [
        "data.isnull().sum()"
      ],
      "execution_count": null,
      "outputs": [
        {
          "output_type": "execute_result",
          "data": {
            "text/plain": [
              "age                        0\n",
              "sex                        0\n",
              "chest_pain_type            0\n",
              "resting_blood_pressure     0\n",
              "cholesterol                0\n",
              "fasting_blood_sugar        0\n",
              "rest_ecg                   0\n",
              "max_heart_rate_achieved    0\n",
              "exercise_induced_angina    0\n",
              "st_depression              0\n",
              "st_slope                   0\n",
              "target                     0\n",
              "dtype: int64"
            ]
          },
          "metadata": {},
          "execution_count": 18
        }
      ]
    },
    {
      "cell_type": "markdown",
      "metadata": {
        "id": "aZ06VWb3RrUk"
      },
      "source": [
        "Exploratory Data Analysis"
      ]
    },
    {
      "cell_type": "code",
      "metadata": {
        "colab": {
          "base_uri": "https://localhost:8080/",
          "height": 297
        },
        "id": "56GBR_FKReRM",
        "outputId": "4730ed60-b765-4606-c781-209357dbb351"
      },
      "source": [
        "data.describe()"
      ],
      "execution_count": null,
      "outputs": [
        {
          "output_type": "execute_result",
          "data": {
            "text/html": [
              "<div>\n",
              "<style scoped>\n",
              "    .dataframe tbody tr th:only-of-type {\n",
              "        vertical-align: middle;\n",
              "    }\n",
              "\n",
              "    .dataframe tbody tr th {\n",
              "        vertical-align: top;\n",
              "    }\n",
              "\n",
              "    .dataframe thead th {\n",
              "        text-align: right;\n",
              "    }\n",
              "</style>\n",
              "<table border=\"1\" class=\"dataframe\">\n",
              "  <thead>\n",
              "    <tr style=\"text-align: right;\">\n",
              "      <th></th>\n",
              "      <th>age</th>\n",
              "      <th>resting_blood_pressure</th>\n",
              "      <th>cholesterol</th>\n",
              "      <th>fasting_blood_sugar</th>\n",
              "      <th>max_heart_rate_achieved</th>\n",
              "      <th>exercise_induced_angina</th>\n",
              "      <th>st_depression</th>\n",
              "      <th>target</th>\n",
              "    </tr>\n",
              "  </thead>\n",
              "  <tbody>\n",
              "    <tr>\n",
              "      <th>count</th>\n",
              "      <td>1189.000000</td>\n",
              "      <td>1189.000000</td>\n",
              "      <td>1189.000000</td>\n",
              "      <td>1189.000000</td>\n",
              "      <td>1189.000000</td>\n",
              "      <td>1189.000000</td>\n",
              "      <td>1189.000000</td>\n",
              "      <td>1189.000000</td>\n",
              "    </tr>\n",
              "    <tr>\n",
              "      <th>mean</th>\n",
              "      <td>53.708158</td>\n",
              "      <td>132.138772</td>\n",
              "      <td>210.376787</td>\n",
              "      <td>0.212784</td>\n",
              "      <td>139.739277</td>\n",
              "      <td>0.387721</td>\n",
              "      <td>0.923549</td>\n",
              "      <td>0.528175</td>\n",
              "    </tr>\n",
              "    <tr>\n",
              "      <th>std</th>\n",
              "      <td>9.352961</td>\n",
              "      <td>18.369251</td>\n",
              "      <td>101.462185</td>\n",
              "      <td>0.409448</td>\n",
              "      <td>25.527386</td>\n",
              "      <td>0.487435</td>\n",
              "      <td>1.086464</td>\n",
              "      <td>0.499416</td>\n",
              "    </tr>\n",
              "    <tr>\n",
              "      <th>min</th>\n",
              "      <td>28.000000</td>\n",
              "      <td>0.000000</td>\n",
              "      <td>0.000000</td>\n",
              "      <td>0.000000</td>\n",
              "      <td>60.000000</td>\n",
              "      <td>0.000000</td>\n",
              "      <td>-2.600000</td>\n",
              "      <td>0.000000</td>\n",
              "    </tr>\n",
              "    <tr>\n",
              "      <th>25%</th>\n",
              "      <td>47.000000</td>\n",
              "      <td>120.000000</td>\n",
              "      <td>188.000000</td>\n",
              "      <td>0.000000</td>\n",
              "      <td>121.000000</td>\n",
              "      <td>0.000000</td>\n",
              "      <td>0.000000</td>\n",
              "      <td>0.000000</td>\n",
              "    </tr>\n",
              "    <tr>\n",
              "      <th>50%</th>\n",
              "      <td>54.000000</td>\n",
              "      <td>130.000000</td>\n",
              "      <td>229.000000</td>\n",
              "      <td>0.000000</td>\n",
              "      <td>141.000000</td>\n",
              "      <td>0.000000</td>\n",
              "      <td>0.600000</td>\n",
              "      <td>1.000000</td>\n",
              "    </tr>\n",
              "    <tr>\n",
              "      <th>75%</th>\n",
              "      <td>60.000000</td>\n",
              "      <td>140.000000</td>\n",
              "      <td>270.000000</td>\n",
              "      <td>0.000000</td>\n",
              "      <td>160.000000</td>\n",
              "      <td>1.000000</td>\n",
              "      <td>1.600000</td>\n",
              "      <td>1.000000</td>\n",
              "    </tr>\n",
              "    <tr>\n",
              "      <th>max</th>\n",
              "      <td>77.000000</td>\n",
              "      <td>200.000000</td>\n",
              "      <td>603.000000</td>\n",
              "      <td>1.000000</td>\n",
              "      <td>202.000000</td>\n",
              "      <td>1.000000</td>\n",
              "      <td>6.200000</td>\n",
              "      <td>1.000000</td>\n",
              "    </tr>\n",
              "  </tbody>\n",
              "</table>\n",
              "</div>"
            ],
            "text/plain": [
              "               age  resting_blood_pressure  ...  st_depression       target\n",
              "count  1189.000000             1189.000000  ...    1189.000000  1189.000000\n",
              "mean     53.708158              132.138772  ...       0.923549     0.528175\n",
              "std       9.352961               18.369251  ...       1.086464     0.499416\n",
              "min      28.000000                0.000000  ...      -2.600000     0.000000\n",
              "25%      47.000000              120.000000  ...       0.000000     0.000000\n",
              "50%      54.000000              130.000000  ...       0.600000     1.000000\n",
              "75%      60.000000              140.000000  ...       1.600000     1.000000\n",
              "max      77.000000              200.000000  ...       6.200000     1.000000\n",
              "\n",
              "[8 rows x 8 columns]"
            ]
          },
          "metadata": {},
          "execution_count": 19
        }
      ]
    },
    {
      "cell_type": "code",
      "metadata": {
        "colab": {
          "base_uri": "https://localhost:8080/",
          "height": 173
        },
        "id": "oukYOYq2Rzit",
        "outputId": "281a9b2f-42c2-4397-aa2a-74f94e703bf5"
      },
      "source": [
        "# summary statistics of categorical columns\n",
        "data.describe(include =[np.object])"
      ],
      "execution_count": null,
      "outputs": [
        {
          "output_type": "execute_result",
          "data": {
            "text/html": [
              "<div>\n",
              "<style scoped>\n",
              "    .dataframe tbody tr th:only-of-type {\n",
              "        vertical-align: middle;\n",
              "    }\n",
              "\n",
              "    .dataframe tbody tr th {\n",
              "        vertical-align: top;\n",
              "    }\n",
              "\n",
              "    .dataframe thead th {\n",
              "        text-align: right;\n",
              "    }\n",
              "</style>\n",
              "<table border=\"1\" class=\"dataframe\">\n",
              "  <thead>\n",
              "    <tr style=\"text-align: right;\">\n",
              "      <th></th>\n",
              "      <th>sex</th>\n",
              "      <th>chest_pain_type</th>\n",
              "      <th>rest_ecg</th>\n",
              "      <th>st_slope</th>\n",
              "    </tr>\n",
              "  </thead>\n",
              "  <tbody>\n",
              "    <tr>\n",
              "      <th>count</th>\n",
              "      <td>1189</td>\n",
              "      <td>1189</td>\n",
              "      <td>1189</td>\n",
              "      <td>1189</td>\n",
              "    </tr>\n",
              "    <tr>\n",
              "      <th>unique</th>\n",
              "      <td>2</td>\n",
              "      <td>4</td>\n",
              "      <td>3</td>\n",
              "      <td>3</td>\n",
              "    </tr>\n",
              "    <tr>\n",
              "      <th>top</th>\n",
              "      <td>male</td>\n",
              "      <td>asymptomatic</td>\n",
              "      <td>normal</td>\n",
              "      <td>flat</td>\n",
              "    </tr>\n",
              "    <tr>\n",
              "      <th>freq</th>\n",
              "      <td>908</td>\n",
              "      <td>625</td>\n",
              "      <td>683</td>\n",
              "      <td>582</td>\n",
              "    </tr>\n",
              "  </tbody>\n",
              "</table>\n",
              "</div>"
            ],
            "text/plain": [
              "         sex chest_pain_type rest_ecg st_slope\n",
              "count   1189            1189     1189     1189\n",
              "unique     2               4        3        3\n",
              "top     male    asymptomatic   normal     flat\n",
              "freq     908             625      683      582"
            ]
          },
          "metadata": {},
          "execution_count": 21
        }
      ]
    },
    {
      "cell_type": "markdown",
      "metadata": {
        "id": "YhOoGoL-SNW7"
      },
      "source": [
        "Distribution of heart disease"
      ]
    },
    {
      "cell_type": "code",
      "metadata": {
        "colab": {
          "base_uri": "https://localhost:8080/",
          "height": 390
        },
        "id": "KDW7tuDQSDL8",
        "outputId": "3a352e20-0bf4-4205-a45f-eaee2a5f12b9"
      },
      "source": [
        "# Plotting attrition of employees\n",
        "fig, (ax1, ax2) = plt.subplots(nrows=1, ncols=2, sharey=False, figsize=(14,6))\n",
        "\n",
        "ax1 = data['target'].value_counts().plot.pie( x=\"Heart disease\" ,y ='no.of patients', \n",
        "                   autopct = \"%1.0f%%\",labels=[\"Heart Disease\",\"Normal\"], startangle = 60,ax=ax1);\n",
        "ax1.set(title = 'Percentage of Heart disease patients in Dataset')\n",
        "\n",
        "ax2 = data[\"target\"].value_counts().plot(kind=\"barh\" ,ax =ax2)\n",
        "for i,j in enumerate(data[\"target\"].value_counts().values):\n",
        "    ax2.text(.5,i,j,fontsize=12)\n",
        "ax2.set(title = 'No. of Heart disease patients in Dataset')\n",
        "plt.show()"
      ],
      "execution_count": null,
      "outputs": [
        {
          "output_type": "display_data",
          "data": {
            "image/png": "[encoded data removed]",
            "text/plain": [
              "<Figure size 1008x432 with 2 Axes>"
            ]
          },
          "metadata": {
            "needs_background": "light"
          }
        }
      ]
    },
    {
      "cell_type": "markdown",
      "metadata": {
        "id": "DrWzyztQT5Wp"
      },
      "source": [
        "Checking Gender and age"
      ]
    },
    {
      "cell_type": "markdown",
      "metadata": {
        "id": "GzyJpaHOTcH5"
      },
      "source": [
        "It seems to be a balanced dataset"
      ]
    },
    {
      "cell_type": "code",
      "metadata": {
        "colab": {
          "base_uri": "https://localhost:8080/",
          "height": 374
        },
        "id": "wsw1uMTCS2pf",
        "outputId": "e80a1562-992c-4c1d-cf53-8964c9c1e726"
      },
      "source": [
        "plt.figure(figsize=(18,12))\n",
        "plt.subplot(221)\n",
        "data[\"sex\"].value_counts().plot.pie(autopct = \"%1.0f%%\",colors = sns.color_palette(\"prism\",5),startangle = 60,labels=[\"Male\",\"Female\"],\n",
        "wedgeprops={\"linewidth\":2,\"edgecolor\":\"k\"},explode=[.1,.1],shadow =True)\n",
        "plt.title(\"Distribution of Gender\")\n",
        "plt.subplot(222)\n",
        "ax= sns.distplot(data['age'], rug=True)\n",
        "plt.title(\"Age wise distribution\")\n",
        "plt.show()"
      ],
      "execution_count": null,
      "outputs": [
        {
          "output_type": "display_data",
          "data": {
            "image/png": "[encoded data removed]",
            "text/plain": [
              "<Figure size 1296x864 with 2 Axes>"
            ]
          },
          "metadata": {
            "needs_background": "light"
          }
        }
      ]
    },
    {
      "cell_type": "markdown",
      "metadata": {
        "id": "wwcgk-6QUOsX"
      },
      "source": [
        "More number of male , and the avarage age of the patient is around 55."
      ]
    },
    {
      "cell_type": "code",
      "metadata": {
        "colab": {
          "base_uri": "https://localhost:8080/",
          "height": 204
        },
        "id": "bt66KgJMU-Rc",
        "outputId": "668b2d21-5eb9-49f9-eac7-8979ba8b9153"
      },
      "source": [
        "#Exploring the Heart Disease patients based on Chest Pain Type\n",
        "plot_criteria= ['chest_pain_type', 'target']\n",
        "cm = sns.light_palette(\"red\", as_cmap=True)\n",
        "(round(pd.crosstab(data[plot_criteria[0]], data[plot_criteria[1]], normalize='columns') * 100,2)).style.background_gradient(cmap = cm)"
      ],
      "execution_count": null,
      "outputs": [
        {
          "output_type": "execute_result",
          "data": {
            "text/html": [
              "<style  type=\"text/css\" >\n",
              "#T_374c35b8_3e17_11ec_8832_0242ac1c0002row0_col0{\n",
              "            background-color:  #fb5050;\n",
              "            color:  #000000;\n",
              "        }#T_374c35b8_3e17_11ec_8832_0242ac1c0002row0_col1,#T_374c35b8_3e17_11ec_8832_0242ac1c0002row2_col0{\n",
              "            background-color:  #ff0000;\n",
              "            color:  #f1f1f1;\n",
              "        }#T_374c35b8_3e17_11ec_8832_0242ac1c0002row1_col0{\n",
              "            background-color:  #fe0c0c;\n",
              "            color:  #f1f1f1;\n",
              "        }#T_374c35b8_3e17_11ec_8832_0242ac1c0002row1_col1{\n",
              "            background-color:  #f3eded;\n",
              "            color:  #000000;\n",
              "        }#T_374c35b8_3e17_11ec_8832_0242ac1c0002row2_col1{\n",
              "            background-color:  #f4cfcf;\n",
              "            color:  #000000;\n",
              "        }#T_374c35b8_3e17_11ec_8832_0242ac1c0002row3_col0,#T_374c35b8_3e17_11ec_8832_0242ac1c0002row3_col1{\n",
              "            background-color:  #f3f0f0;\n",
              "            color:  #000000;\n",
              "        }</style><table id=\"T_374c35b8_3e17_11ec_8832_0242ac1c0002\" class=\"dataframe\"><thead>    <tr>        <th class=\"index_name level0\" >target</th>        <th class=\"col_heading level0 col0\" >0</th>        <th class=\"col_heading level0 col1\" >1</th>    </tr>    <tr>        <th class=\"index_name level0\" >chest_pain_type</th>        <th class=\"blank\" ></th>        <th class=\"blank\" ></th>    </tr></thead><tbody>\n",
              "                <tr>\n",
              "                        <th id=\"T_374c35b8_3e17_11ec_8832_0242ac1c0002level0_row0\" class=\"row_heading level0 row0\" >asymptomatic</th>\n",
              "                        <td id=\"T_374c35b8_3e17_11ec_8832_0242ac1c0002row0_col0\" class=\"data row0 col0\" >25.310000</td>\n",
              "                        <td id=\"T_374c35b8_3e17_11ec_8832_0242ac1c0002row0_col1\" class=\"data row0 col1\" >76.910000</td>\n",
              "            </tr>\n",
              "            <tr>\n",
              "                        <th id=\"T_374c35b8_3e17_11ec_8832_0242ac1c0002level0_row1\" class=\"row_heading level0 row1\" >atypical angina</th>\n",
              "                        <td id=\"T_374c35b8_3e17_11ec_8832_0242ac1c0002row1_col0\" class=\"data row1 col0\" >32.980000</td>\n",
              "                        <td id=\"T_374c35b8_3e17_11ec_8832_0242ac1c0002row1_col1\" class=\"data row1 col1\" >4.940000</td>\n",
              "            </tr>\n",
              "            <tr>\n",
              "                        <th id=\"T_374c35b8_3e17_11ec_8832_0242ac1c0002level0_row2\" class=\"row_heading level0 row2\" >non-anginal pain</th>\n",
              "                        <td id=\"T_374c35b8_3e17_11ec_8832_0242ac1c0002row2_col0\" class=\"data row2 col0\" >34.400000</td>\n",
              "                        <td id=\"T_374c35b8_3e17_11ec_8832_0242ac1c0002row2_col1\" class=\"data row2 col1\" >14.170000</td>\n",
              "            </tr>\n",
              "            <tr>\n",
              "                        <th id=\"T_374c35b8_3e17_11ec_8832_0242ac1c0002level0_row3\" class=\"row_heading level0 row3\" >typical angina</th>\n",
              "                        <td id=\"T_374c35b8_3e17_11ec_8832_0242ac1c0002row3_col0\" class=\"data row3 col0\" >7.310000</td>\n",
              "                        <td id=\"T_374c35b8_3e17_11ec_8832_0242ac1c0002row3_col1\" class=\"data row3 col1\" >3.980000</td>\n",
              "            </tr>\n",
              "    </tbody></table>"
            ],
            "text/plain": [
              "<pandas.io.formats.style.Styler at 0x7f8b28d78f90>"
            ]
          },
          "metadata": {},
          "execution_count": 29
        }
      ]
    },
    {
      "cell_type": "code",
      "metadata": {
        "colab": {
          "base_uri": "https://localhost:8080/",
          "height": 173
        },
        "id": "T-IMZiFZVe3a",
        "outputId": "d676e9ee-fa06-4a32-af45-f283cefd7fd6"
      },
      "source": [
        "#Exploring the Heart Disease patients based on REST ECG\n",
        "plot_criteria= ['rest_ecg', 'target']\n",
        "cm = sns.light_palette(\"red\", as_cmap=True)\n",
        "(round(pd.crosstab(data[plot_criteria[0]], data[plot_criteria[1]], normalize='columns') * 100,2)).style.background_gradient(cmap = cm)"
      ],
      "execution_count": null,
      "outputs": [
        {
          "output_type": "execute_result",
          "data": {
            "text/html": [
              "<style  type=\"text/css\" >\n",
              "#T_5b4cd9e0_3e17_11ec_8832_0242ac1c0002row0_col0,#T_5b4cd9e0_3e17_11ec_8832_0242ac1c0002row0_col1{\n",
              "            background-color:  #f3f0f0;\n",
              "            color:  #000000;\n",
              "        }#T_5b4cd9e0_3e17_11ec_8832_0242ac1c0002row1_col0{\n",
              "            background-color:  #f6abab;\n",
              "            color:  #000000;\n",
              "        }#T_5b4cd9e0_3e17_11ec_8832_0242ac1c0002row1_col1{\n",
              "            background-color:  #f6acac;\n",
              "            color:  #000000;\n",
              "        }#T_5b4cd9e0_3e17_11ec_8832_0242ac1c0002row2_col0,#T_5b4cd9e0_3e17_11ec_8832_0242ac1c0002row2_col1{\n",
              "            background-color:  #ff0000;\n",
              "            color:  #f1f1f1;\n",
              "        }</style><table id=\"T_5b4cd9e0_3e17_11ec_8832_0242ac1c0002\" class=\"dataframe\"><thead>    <tr>        <th class=\"index_name level0\" >target</th>        <th class=\"col_heading level0 col0\" >0</th>        <th class=\"col_heading level0 col1\" >1</th>    </tr>    <tr>        <th class=\"index_name level0\" >rest_ecg</th>        <th class=\"blank\" ></th>        <th class=\"blank\" ></th>    </tr></thead><tbody>\n",
              "                <tr>\n",
              "                        <th id=\"T_5b4cd9e0_3e17_11ec_8832_0242ac1c0002level0_row0\" class=\"row_heading level0 row0\" >ST-T wave abnormality</th>\n",
              "                        <td id=\"T_5b4cd9e0_3e17_11ec_8832_0242ac1c0002row0_col0\" class=\"data row0 col0\" >11.050000</td>\n",
              "                        <td id=\"T_5b4cd9e0_3e17_11ec_8832_0242ac1c0002row0_col1\" class=\"data row0 col1\" >18.950000</td>\n",
              "            </tr>\n",
              "            <tr>\n",
              "                        <th id=\"T_5b4cd9e0_3e17_11ec_8832_0242ac1c0002level0_row1\" class=\"row_heading level0 row1\" >left ventricular hypertrophy</th>\n",
              "                        <td id=\"T_5b4cd9e0_3e17_11ec_8832_0242ac1c0002row1_col0\" class=\"data row1 col0\" >26.020000</td>\n",
              "                        <td id=\"T_5b4cd9e0_3e17_11ec_8832_0242ac1c0002row1_col1\" class=\"data row1 col1\" >28.500000</td>\n",
              "            </tr>\n",
              "            <tr>\n",
              "                        <th id=\"T_5b4cd9e0_3e17_11ec_8832_0242ac1c0002level0_row2\" class=\"row_heading level0 row2\" >normal</th>\n",
              "                        <td id=\"T_5b4cd9e0_3e17_11ec_8832_0242ac1c0002row2_col0\" class=\"data row2 col0\" >62.920000</td>\n",
              "                        <td id=\"T_5b4cd9e0_3e17_11ec_8832_0242ac1c0002row2_col1\" class=\"data row2 col1\" >52.550000</td>\n",
              "            </tr>\n",
              "    </tbody></table>"
            ],
            "text/plain": [
              "<pandas.io.formats.style.Styler at 0x7f8b1e0ef850>"
            ]
          },
          "metadata": {},
          "execution_count": 31
        }
      ]
    },
    {
      "cell_type": "markdown",
      "metadata": {
        "id": "ICI8tn-8WGmJ"
      },
      "source": [
        "Distribution of NUmerical features"
      ]
    },
    {
      "cell_type": "code",
      "metadata": {
        "colab": {
          "base_uri": "https://localhost:8080/",
          "height": 567
        },
        "id": "LlQL7z-7V0CT",
        "outputId": "219b7f07-f56a-4427-f714-270bac27bbf0"
      },
      "source": [
        "sns.pairplot(data, hue = 'target', vars = ['age', 'resting_blood_pressure', 'cholesterol'] )"
      ],
      "execution_count": null,
      "outputs": [
        {
          "output_type": "execute_result",
          "data": {
            "text/plain": [
              "<seaborn.axisgrid.PairGrid at 0x7f8b1e095d10>"
            ]
          },
          "metadata": {},
          "execution_count": 32
        },
        {
          "output_type": "display_data",
          "data": {
            "image/png": "[encoded data removed]",
            "text/plain": [
              "<Figure size 582.375x540 with 12 Axes>"
            ]
          },
          "metadata": {
            "needs_background": "light"
          }
        }
      ]
    },
    {
      "cell_type": "markdown",
      "metadata": {
        "id": "bWdA45iPWgCY"
      },
      "source": [
        "we see that as age increases , probability of getting heart disease also increases"
      ]
    },
    {
      "cell_type": "markdown",
      "metadata": {
        "id": "vRRPfvUUXMq9"
      },
      "source": [
        "Removing outliers"
      ]
    },
    {
      "cell_type": "code",
      "metadata": {
        "id": "dCLJgnYoWUAs"
      },
      "source": [
        "# filtering numeric features as age , resting bp, cholestrol and max heart rate achieved has outliers as per EDA\n",
        "\n",
        "dt_numeric = data[['age','resting_blood_pressure','cholesterol','max_heart_rate_achieved']]"
      ],
      "execution_count": null,
      "outputs": []
    },
    {
      "cell_type": "code",
      "metadata": {
        "colab": {
          "base_uri": "https://localhost:8080/"
        },
        "id": "5Yf1SPjrXX0f",
        "outputId": "c970342b-3469-4355-c326-eb0759bb9a73"
      },
      "source": [
        "# calculating zscore of numeric columns in the dataset\n",
        "z = np.abs(stats.zscore(dt_numeric))\n",
        "print(z)"
      ],
      "execution_count": null,
      "outputs": [
        {
          "output_type": "stream",
          "name": "stdout",
          "text": [
            "[[1.46626567 0.4281359  0.7752277  1.26430092]\n",
            " [0.5035987  1.51737007 0.29951621 0.63725935]\n",
            " [1.78715466 0.11648118 0.71606748 1.63576637]\n",
            " ...\n",
            " [0.35210527 0.11648118 0.78265797 0.96953469]\n",
            " [0.35210527 0.11648118 0.2526458  1.34268112]\n",
            " [1.68019167 0.31921249 0.34881639 1.30349102]]\n"
          ]
        }
      ]
    },
    {
      "cell_type": "code",
      "metadata": {
        "colab": {
          "base_uri": "https://localhost:8080/"
        },
        "id": "y-ZLEJLZXfii",
        "outputId": "90cc6ab9-431c-4c07-b609-5a28fb981784"
      },
      "source": [
        "# Defining threshold for filtering outliers \n",
        "threshold = 3\n",
        "print(np.where(z > 3))"
      ],
      "execution_count": null,
      "outputs": [
        {
          "output_type": "stream",
          "name": "stdout",
          "text": [
            "(array([  30,   76,  109,  149,  242,  366,  371,  391,  400,  450,  592,\n",
            "        617,  733,  760, 1012, 1038, 1074]), array([2, 2, 1, 2, 1, 1, 3, 3, 1, 1, 1, 2, 1, 1, 1, 2, 1]))\n"
          ]
        }
      ]
    },
    {
      "cell_type": "code",
      "metadata": {
        "id": "Yyxctya3Xlhi"
      },
      "source": [
        "#filtering outliers retaining only those data points which are below threshhold\n",
        "dt = data[(z < 3).all(axis=1)]"
      ],
      "execution_count": null,
      "outputs": []
    },
    {
      "cell_type": "code",
      "metadata": {
        "id": "Pi0uFMqbZYrG"
      },
      "source": [
        "dt = pd.get_dummies(dt, drop_first=True)"
      ],
      "execution_count": null,
      "outputs": []
    },
    {
      "cell_type": "markdown",
      "metadata": {
        "id": "uH8FSQErX43h"
      },
      "source": [
        "17 outliers are removed"
      ]
    },
    {
      "cell_type": "code",
      "metadata": {
        "colab": {
          "base_uri": "https://localhost:8080/",
          "height": 258
        },
        "id": "q5P6vQ9MX0sS",
        "outputId": "c8958ece-e5a3-435e-ed0e-8eef80be6b9e"
      },
      "source": [
        "dt.head()"
      ],
      "execution_count": null,
      "outputs": [
        {
          "output_type": "execute_result",
          "data": {
            "text/html": [
              "<div>\n",
              "<style scoped>\n",
              "    .dataframe tbody tr th:only-of-type {\n",
              "        vertical-align: middle;\n",
              "    }\n",
              "\n",
              "    .dataframe tbody tr th {\n",
              "        vertical-align: top;\n",
              "    }\n",
              "\n",
              "    .dataframe thead th {\n",
              "        text-align: right;\n",
              "    }\n",
              "</style>\n",
              "<table border=\"1\" class=\"dataframe\">\n",
              "  <thead>\n",
              "    <tr style=\"text-align: right;\">\n",
              "      <th></th>\n",
              "      <th>age</th>\n",
              "      <th>resting_blood_pressure</th>\n",
              "      <th>cholesterol</th>\n",
              "      <th>fasting_blood_sugar</th>\n",
              "      <th>max_heart_rate_achieved</th>\n",
              "      <th>exercise_induced_angina</th>\n",
              "      <th>st_depression</th>\n",
              "      <th>target</th>\n",
              "      <th>sex_male</th>\n",
              "      <th>chest_pain_type_atypical angina</th>\n",
              "      <th>chest_pain_type_non-anginal pain</th>\n",
              "      <th>chest_pain_type_typical angina</th>\n",
              "      <th>rest_ecg_left ventricular hypertrophy</th>\n",
              "      <th>rest_ecg_normal</th>\n",
              "      <th>st_slope_flat</th>\n",
              "      <th>st_slope_upsloping</th>\n",
              "    </tr>\n",
              "  </thead>\n",
              "  <tbody>\n",
              "    <tr>\n",
              "      <th>0</th>\n",
              "      <td>40</td>\n",
              "      <td>140</td>\n",
              "      <td>289</td>\n",
              "      <td>0</td>\n",
              "      <td>172</td>\n",
              "      <td>0</td>\n",
              "      <td>0.0</td>\n",
              "      <td>0</td>\n",
              "      <td>1</td>\n",
              "      <td>1</td>\n",
              "      <td>0</td>\n",
              "      <td>0</td>\n",
              "      <td>0</td>\n",
              "      <td>1</td>\n",
              "      <td>0</td>\n",
              "      <td>1</td>\n",
              "    </tr>\n",
              "    <tr>\n",
              "      <th>1</th>\n",
              "      <td>49</td>\n",
              "      <td>160</td>\n",
              "      <td>180</td>\n",
              "      <td>0</td>\n",
              "      <td>156</td>\n",
              "      <td>0</td>\n",
              "      <td>1.0</td>\n",
              "      <td>1</td>\n",
              "      <td>0</td>\n",
              "      <td>0</td>\n",
              "      <td>1</td>\n",
              "      <td>0</td>\n",
              "      <td>0</td>\n",
              "      <td>1</td>\n",
              "      <td>1</td>\n",
              "      <td>0</td>\n",
              "    </tr>\n",
              "    <tr>\n",
              "      <th>2</th>\n",
              "      <td>37</td>\n",
              "      <td>130</td>\n",
              "      <td>283</td>\n",
              "      <td>0</td>\n",
              "      <td>98</td>\n",
              "      <td>0</td>\n",
              "      <td>0.0</td>\n",
              "      <td>0</td>\n",
              "      <td>1</td>\n",
              "      <td>1</td>\n",
              "      <td>0</td>\n",
              "      <td>0</td>\n",
              "      <td>0</td>\n",
              "      <td>0</td>\n",
              "      <td>0</td>\n",
              "      <td>1</td>\n",
              "    </tr>\n",
              "    <tr>\n",
              "      <th>3</th>\n",
              "      <td>48</td>\n",
              "      <td>138</td>\n",
              "      <td>214</td>\n",
              "      <td>0</td>\n",
              "      <td>108</td>\n",
              "      <td>1</td>\n",
              "      <td>1.5</td>\n",
              "      <td>1</td>\n",
              "      <td>0</td>\n",
              "      <td>0</td>\n",
              "      <td>0</td>\n",
              "      <td>0</td>\n",
              "      <td>0</td>\n",
              "      <td>1</td>\n",
              "      <td>1</td>\n",
              "      <td>0</td>\n",
              "    </tr>\n",
              "    <tr>\n",
              "      <th>4</th>\n",
              "      <td>54</td>\n",
              "      <td>150</td>\n",
              "      <td>195</td>\n",
              "      <td>0</td>\n",
              "      <td>122</td>\n",
              "      <td>0</td>\n",
              "      <td>0.0</td>\n",
              "      <td>0</td>\n",
              "      <td>1</td>\n",
              "      <td>0</td>\n",
              "      <td>1</td>\n",
              "      <td>0</td>\n",
              "      <td>0</td>\n",
              "      <td>1</td>\n",
              "      <td>0</td>\n",
              "      <td>1</td>\n",
              "    </tr>\n",
              "  </tbody>\n",
              "</table>\n",
              "</div>"
            ],
            "text/plain": [
              "   age  resting_blood_pressure  ...  st_slope_flat  st_slope_upsloping\n",
              "0   40                     140  ...              0                   1\n",
              "1   49                     160  ...              1                   0\n",
              "2   37                     130  ...              0                   1\n",
              "3   48                     138  ...              1                   0\n",
              "4   54                     150  ...              0                   1\n",
              "\n",
              "[5 rows x 16 columns]"
            ]
          },
          "metadata": {},
          "execution_count": 43
        }
      ]
    },
    {
      "cell_type": "code",
      "metadata": {
        "colab": {
          "base_uri": "https://localhost:8080/"
        },
        "id": "Pf-WvO1UX_Lh",
        "outputId": "4a955c5d-167f-441e-b5c1-917806710b1c"
      },
      "source": [
        "data.shape"
      ],
      "execution_count": null,
      "outputs": [
        {
          "output_type": "execute_result",
          "data": {
            "text/plain": [
              "(1189, 12)"
            ]
          },
          "metadata": {},
          "execution_count": 38
        }
      ]
    },
    {
      "cell_type": "markdown",
      "metadata": {
        "id": "UT754vEmYKDj"
      },
      "source": [
        "Dependent and independent variables"
      ]
    },
    {
      "cell_type": "code",
      "metadata": {
        "id": "sQ21ns4mYBm6"
      },
      "source": [
        "X = dt.drop(['target'],axis=1)\n",
        "y = dt['target']"
      ],
      "execution_count": null,
      "outputs": []
    },
    {
      "cell_type": "markdown",
      "metadata": {
        "id": "cuVama_-YbAj"
      },
      "source": [
        "Correlation"
      ]
    },
    {
      "cell_type": "code",
      "metadata": {
        "colab": {
          "base_uri": "https://localhost:8080/",
          "height": 568
        },
        "id": "JXE1YDtaYU46",
        "outputId": "4b0f5ce6-927e-4c09-9022-f261f5a3e3f8"
      },
      "source": [
        "#Correlation with Response Variable class\n",
        "\n",
        "X.corrwith(y).plot.bar(\n",
        "        figsize = (16, 4), title = \"Correlation with Diabetes\", fontsize = 15,\n",
        "        rot = 90, grid = True)"
      ],
      "execution_count": null,
      "outputs": [
        {
          "output_type": "execute_result",
          "data": {
            "text/plain": [
              "<matplotlib.axes._subplots.AxesSubplot at 0x7f8b1cb01290>"
            ]
          },
          "metadata": {},
          "execution_count": 45
        },
        {
          "output_type": "display_data",
          "data": {
            "image/png": "[encoded data removed]",
            "text/plain": [
              "<Figure size 1152x288 with 1 Axes>"
            ]
          },
          "metadata": {
            "needs_background": "light"
          }
        }
      ]
    },
    {
      "cell_type": "markdown",
      "metadata": {
        "id": "2LDLJwqNZ3tc"
      },
      "source": [
        "Train Test Split"
      ]
    },
    {
      "cell_type": "code",
      "metadata": {
        "id": "reUl6IcGYnia"
      },
      "source": [
        "X_train, X_test, y_train, y_test = train_test_split(X, y, stratify=y, test_size=0.2,shuffle=True, random_state=5)"
      ],
      "execution_count": null,
      "outputs": []
    },
    {
      "cell_type": "markdown",
      "metadata": {
        "id": "9CNwXG5WaLkt"
      },
      "source": [
        "Feature Normalisation using MinMaxScaler"
      ]
    },
    {
      "cell_type": "code",
      "metadata": {
        "id": "Uw-wvurDaCKM"
      },
      "source": [
        "from sklearn.preprocessing import MinMaxScaler\n",
        "scaler = MinMaxScaler()\n",
        "X_train[['age','resting_blood_pressure','cholesterol','max_heart_rate_achieved','st_depression']] = scaler.fit_transform(X_train[['age','resting_blood_pressure','cholesterol','max_heart_rate_achieved','st_depression']])"
      ],
      "execution_count": null,
      "outputs": []
    },
    {
      "cell_type": "code",
      "metadata": {
        "id": "Xfb5U7-RaZ-j"
      },
      "source": [
        "X_test[['age','resting_blood_pressure','cholesterol','max_heart_rate_achieved','st_depression']] = scaler.transform(X_test[['age','resting_blood_pressure','cholesterol','max_heart_rate_achieved','st_depression']])"
      ],
      "execution_count": null,
      "outputs": []
    },
    {
      "cell_type": "markdown",
      "metadata": {
        "id": "uhgXW2JuakZu"
      },
      "source": [
        "Cross Validation"
      ]
    },
    {
      "cell_type": "code",
      "metadata": {
        "id": "QBNJUQQ6ahAA"
      },
      "source": [
        "from sklearn import model_selection\n",
        "from sklearn.model_selection import cross_val_score\n",
        "import xgboost as xgb\n",
        "# function initializing baseline machine learning models\n",
        "def GetBasedModel():\n",
        "    basedModels = []\n",
        "    basedModels.append(('LR_L2'   , LogisticRegression(penalty='l2')))\n",
        "    #basedModels.append(('LDA'  , LinearDiscriminantAnalysis()))\n",
        "    #basedModels.append(('KNN7'  , KNeighborsClassifier(7)))\n",
        "    #basedModels.append(('KNN5'  , KNeighborsClassifier(5)))\n",
        "    #basedModels.append(('KNN9'  , KNeighborsClassifier(9)))\n",
        "    #basedModels.append(('KNN11'  , KNeighborsClassifier(11)))\n",
        "    basedModels.append(('CART' , DecisionTreeClassifier()))\n",
        "    #basedModels.append(('NB'   , GaussianNB()))\n",
        "    basedModels.append(('SVM Linear'  , SVC(kernel='linear',gamma='auto',probability=True)))\n",
        "    basedModels.append(('SVM RBF'  , SVC(kernel='rbf',gamma='auto',probability=True)))\n",
        "    basedModels.append(('AB'   , AdaBoostClassifier()))\n",
        "    basedModels.append(('GBM'  , GradientBoostingClassifier(n_estimators=100,max_features='sqrt')))\n",
        "    basedModels.append(('RF_Ent100'   , RandomForestClassifier(criterion='entropy',n_estimators=100)))\n",
        "    basedModels.append(('RF_Gini100'   , RandomForestClassifier(criterion='gini',n_estimators=100)))\n",
        "    basedModels.append(('ET100'   , ExtraTreesClassifier(n_estimators= 100)))\n",
        "    basedModels.append(('ET500'   , ExtraTreesClassifier(n_estimators= 500)))\n",
        "    basedModels.append(('MLP', MLPClassifier()))\n",
        "    basedModels.append(('SGD3000', SGDClassifier(max_iter=1000, tol=1e-4)))\n",
        "    basedModels.append(('XGB_2000', xgb.XGBClassifier(n_estimators= 2000)))\n",
        "    basedModels.append(('XGB_500', xgb.XGBClassifier(n_estimators= 500)))\n",
        "    basedModels.append(('XGB_100', xgb.XGBClassifier(n_estimators= 100)))\n",
        "    basedModels.append(('XGB_1000', xgb.XGBClassifier(n_estimators= 1000)))\n",
        "    basedModels.append(('ET1000'   , ExtraTreesClassifier(n_estimators= 1000)))\n",
        "    \n",
        "    return basedModels\n",
        "\n",
        "# function for performing 10-fold cross validation of all the baseline models\n",
        "def BasedLine2(X_train, y_train,models):\n",
        "    # Test options and evaluation metric\n",
        "    num_folds = 10\n",
        "    scoring = 'accuracy'\n",
        "    seed = 7\n",
        "    results = []\n",
        "    names = []\n",
        "    for name, model in models:\n",
        "        kfold = model_selection.KFold(n_splits=10, random_state=seed)\n",
        "        cv_results = model_selection.cross_val_score(model, X_train, y_train, cv=kfold, scoring=scoring)\n",
        "        results.append(cv_results)\n",
        "        names.append(name)\n",
        "        msg = \"%s: %f (%f)\" % (name, cv_results.mean(), cv_results.std())\n",
        "        print(msg)\n",
        "         \n",
        "        \n",
        "    return results,msg"
      ],
      "execution_count": null,
      "outputs": []
    },
    {
      "cell_type": "code",
      "metadata": {
        "colab": {
          "base_uri": "https://localhost:8080/"
        },
        "id": "zAzL_BJGa6KJ",
        "outputId": "90eb09e4-2da8-4c74-b702-9e74c7e225ba"
      },
      "source": [
        "models = GetBasedModel()\n",
        "names,results = BasedLine2(X_train, y_train,models)"
      ],
      "execution_count": null,
      "outputs": [
        {
          "output_type": "stream",
          "name": "stdout",
          "text": [
            "LR_L2: 0.851704 (0.051909)\n",
            "CART: 0.863429 (0.027574)\n",
            "SVM Linear: 0.852803 (0.052849)\n",
            "SVM RBF: 0.852745 (0.044010)\n",
            "AB: 0.853832 (0.028773)\n",
            "GBM: 0.891169 (0.036175)\n",
            "RF_Ent100: 0.933882 (0.036420)\n",
            "RF_Gini100: 0.932830 (0.038009)\n",
            "ET100: 0.918920 (0.032287)\n",
            "ET500: 0.921048 (0.032317)\n",
            "MLP: 0.864493 (0.037681)\n",
            "SGD3000: 0.834637 (0.039129)\n",
            "XGB_2000: 0.921082 (0.040058)\n",
            "XGB_500: 0.926378 (0.033758)\n",
            "XGB_100: 0.899703 (0.037175)\n",
            "XGB_1000: 0.924274 (0.040144)\n",
            "ET1000: 0.924251 (0.034750)\n"
          ]
        }
      ]
    },
    {
      "cell_type": "markdown",
      "metadata": {
        "id": "w04YRUc_iXAi"
      },
      "source": [
        "Model Building"
      ]
    },
    {
      "cell_type": "markdown",
      "metadata": {
        "id": "lKjSWkRVimrQ"
      },
      "source": [
        "Random Forest Classifier (criterion = 'entropy')"
      ]
    },
    {
      "cell_type": "code",
      "metadata": {
        "id": "cu5UQU_6bAPJ"
      },
      "source": [
        "rf_ent = RandomForestClassifier(criterion='entropy',n_estimators=100)\n",
        "rf_ent.fit(X_train, y_train)\n",
        "y_pred_rfe = rf_ent.predict(X_test)"
      ],
      "execution_count": null,
      "outputs": []
    },
    {
      "cell_type": "markdown",
      "metadata": {
        "id": "bKuXxZVHiz92"
      },
      "source": [
        "Multi Layer Perceptron"
      ]
    },
    {
      "cell_type": "code",
      "metadata": {
        "id": "jhqDsHHNir8L"
      },
      "source": [
        "mlp = MLPClassifier()\n",
        "mlp.fit(X_train,y_train)\n",
        "y_pred_mlp = mlp.predict(X_test)"
      ],
      "execution_count": null,
      "outputs": []
    },
    {
      "cell_type": "markdown",
      "metadata": {
        "id": "1PO3OIeKi-tt"
      },
      "source": [
        "Extra Tree Classifier (n_estimators=500)"
      ]
    },
    {
      "cell_type": "code",
      "metadata": {
        "id": "yjcuqMSni5YA"
      },
      "source": [
        "et_100 = ExtraTreesClassifier(n_estimators= 100)\n",
        "et_100.fit(X_train,y_train)\n",
        "y_pred_et_100 = et_100.predict(X_test)"
      ],
      "execution_count": null,
      "outputs": []
    },
    {
      "cell_type": "markdown",
      "metadata": {
        "id": "H_FH-Dq3jGyu"
      },
      "source": [
        "XGBoost (n_estimators=500)"
      ]
    },
    {
      "cell_type": "code",
      "metadata": {
        "id": "9UU6Ii6_jCq3"
      },
      "source": [
        "import xgboost as xgb\n",
        "xgb = xgb.XGBClassifier(n_estimators= 500)\n",
        "xgb.fit(X_train,y_train)\n",
        "y_pred_xgb = xgb.predict(X_test)"
      ],
      "execution_count": null,
      "outputs": []
    },
    {
      "cell_type": "markdown",
      "metadata": {
        "id": "thZStkmRjQ6C"
      },
      "source": [
        "Support Vector Classifier (kernel='linear')"
      ]
    },
    {
      "cell_type": "code",
      "metadata": {
        "id": "DYHw-N0SjMPB"
      },
      "source": [
        "svc = SVC(kernel='linear',gamma='auto',probability=True)\n",
        "svc.fit(X_train,y_train)\n",
        "y_pred_svc = svc.predict(X_test)"
      ],
      "execution_count": null,
      "outputs": []
    },
    {
      "cell_type": "markdown",
      "metadata": {
        "id": "O59wlf56jY0W"
      },
      "source": [
        "Stochastic Gradient Descent"
      ]
    },
    {
      "cell_type": "code",
      "metadata": {
        "id": "UBp9G4gvjVhZ"
      },
      "source": [
        "sgd = SGDClassifier(max_iter=1000, tol=1e-4)\n",
        "sgd.fit(X_train,y_train)\n",
        "y_pred_sgd = sgd.predict(X_test)"
      ],
      "execution_count": null,
      "outputs": []
    },
    {
      "cell_type": "markdown",
      "metadata": {
        "id": "JSbTxST8jzig"
      },
      "source": [
        "Adaboost Classifier"
      ]
    },
    {
      "cell_type": "code",
      "metadata": {
        "id": "VJMwBe9IjwUa"
      },
      "source": [
        "ada = AdaBoostClassifier()\n",
        "ada.fit(X_train,y_train)\n",
        "y_pred_ada = ada.predict(X_test)"
      ],
      "execution_count": null,
      "outputs": []
    },
    {
      "cell_type": "markdown",
      "metadata": {
        "id": "mGB9U6zCj9WM"
      },
      "source": [
        "decision Tree Classifier (CART)"
      ]
    },
    {
      "cell_type": "code",
      "metadata": {
        "id": "hqg2bnJ5j3lR"
      },
      "source": [
        "decc = DecisionTreeClassifier()\n",
        "decc.fit(X_train,y_train)\n",
        "y_pred_decc = decc.predict(X_test)"
      ],
      "execution_count": null,
      "outputs": []
    },
    {
      "cell_type": "markdown",
      "metadata": {
        "id": "14Tyj7GzkFH-"
      },
      "source": [
        "gradient boosting machine"
      ]
    },
    {
      "cell_type": "code",
      "metadata": {
        "id": "k7cdEvmZkBM5"
      },
      "source": [
        "gbm = GradientBoostingClassifier(n_estimators=100,max_features='sqrt')\n",
        "gbm.fit(X_train,y_train)\n",
        "y_pred_gbm = gbm.predict(X_test)"
      ],
      "execution_count": null,
      "outputs": []
    },
    {
      "cell_type": "markdown",
      "metadata": {
        "id": "F6uyj5H1kbQH"
      },
      "source": [
        "Confusion Matrix"
      ]
    },
    {
      "cell_type": "code",
      "metadata": {
        "colab": {
          "base_uri": "https://localhost:8080/",
          "height": 328
        },
        "id": "Kg0w9TtTkJAh",
        "outputId": "40378b85-7d43-4bc8-b72f-0c2e5c4f4eea"
      },
      "source": [
        "CM=confusion_matrix(y_test,y_pred_rfe)\n",
        "sns.heatmap(CM, annot=True)\n",
        "\n",
        "TN = CM[0][0]\n",
        "FN = CM[1][0]\n",
        "TP = CM[1][1]\n",
        "FP = CM[0][1]\n",
        "specificity = TN/(TN+FP)\n",
        "loss_log = log_loss(y_test, y_pred_rfe)\n",
        "acc= accuracy_score(y_test, y_pred_rfe)\n",
        "roc=roc_auc_score(y_test, y_pred_rfe)\n",
        "prec = precision_score(y_test, y_pred_rfe)\n",
        "rec = recall_score(y_test, y_pred_rfe)\n",
        "f1 = f1_score(y_test, y_pred_rfe)\n",
        "mathew = matthews_corrcoef(y_test, y_pred_rfe)\n",
        "model_results =pd.DataFrame([['Random Forest',acc, prec,rec,specificity, f1,roc, loss_log,mathew]],\n",
        "               columns = ['Model', 'Accuracy','Precision', 'Sensitivity','Specificity', 'F1 Score','ROC','Log_Loss','mathew_corrcoef'])\n",
        "\n",
        "model_results"
      ],
      "execution_count": null,
      "outputs": [
        {
          "output_type": "execute_result",
          "data": {
            "text/html": [
              "<div>\n",
              "<style scoped>\n",
              "    .dataframe tbody tr th:only-of-type {\n",
              "        vertical-align: middle;\n",
              "    }\n",
              "\n",
              "    .dataframe tbody tr th {\n",
              "        vertical-align: top;\n",
              "    }\n",
              "\n",
              "    .dataframe thead th {\n",
              "        text-align: right;\n",
              "    }\n",
              "</style>\n",
              "<table border=\"1\" class=\"dataframe\">\n",
              "  <thead>\n",
              "    <tr style=\"text-align: right;\">\n",
              "      <th></th>\n",
              "      <th>Model</th>\n",
              "      <th>Accuracy</th>\n",
              "      <th>Precision</th>\n",
              "      <th>Sensitivity</th>\n",
              "      <th>Specificity</th>\n",
              "      <th>F1 Score</th>\n",
              "      <th>ROC</th>\n",
              "      <th>Log_Loss</th>\n",
              "      <th>mathew_corrcoef</th>\n",
              "    </tr>\n",
              "  </thead>\n",
              "  <tbody>\n",
              "    <tr>\n",
              "      <th>0</th>\n",
              "      <td>Random Forest</td>\n",
              "      <td>0.885106</td>\n",
              "      <td>0.847826</td>\n",
              "      <td>0.95122</td>\n",
              "      <td>0.8125</td>\n",
              "      <td>0.896552</td>\n",
              "      <td>0.88186</td>\n",
              "      <td>3.968356</td>\n",
              "      <td>0.774765</td>\n",
              "    </tr>\n",
              "  </tbody>\n",
              "</table>\n",
              "</div>"
            ],
            "text/plain": [
              "           Model  Accuracy  Precision  ...      ROC  Log_Loss  mathew_corrcoef\n",
              "0  Random Forest  0.885106   0.847826  ...  0.88186  3.968356         0.774765\n",
              "\n",
              "[1 rows x 9 columns]"
            ]
          },
          "metadata": {},
          "execution_count": 68
        },
        {
          "output_type": "display_data",
          "data": {
            "image/png": "[encoded data removed]",
            "text/plain": [
              "<Figure size 432x288 with 2 Axes>"
            ]
          },
          "metadata": {
            "needs_background": "light"
          }
        }
      ]
    },
    {
      "cell_type": "markdown",
      "metadata": {
        "id": "G4eplDdtk0Dj"
      },
      "source": [
        "Comparision with other models"
      ]
    },
    {
      "cell_type": "code",
      "metadata": {
        "colab": {
          "base_uri": "https://localhost:8080/",
          "height": 328
        },
        "id": "IJZe9A_lkrBw",
        "outputId": "84604966-5c6f-4b3e-d5e6-6f18e73ede8d"
      },
      "source": [
        "data = {        'MLP': y_pred_mlp, \n",
        "                #'KNN': y_pred_knn, \n",
        "                'EXtra tree classifier': y_pred_et_100,\n",
        "                'XGB': y_pred_xgb, \n",
        "                'SVC': y_pred_svc, \n",
        "                'SGD': y_pred_sgd,\n",
        "                'Adaboost': y_pred_ada, \n",
        "                'CART': y_pred_decc, \n",
        "                'GBM': y_pred_gbm }\n",
        "\n",
        "models = pd.DataFrame(data) \n",
        " \n",
        "for column in models:\n",
        "    CM=confusion_matrix(y_test,models[column])\n",
        "    \n",
        "    TN = CM[0][0]\n",
        "    FN = CM[1][0]\n",
        "    TP = CM[1][1]\n",
        "    FP = CM[0][1]\n",
        "    specificity = TN/(TN+FP)\n",
        "    loss_log = log_loss(y_test, models[column])\n",
        "    acc= accuracy_score(y_test, models[column])\n",
        "    roc=roc_auc_score(y_test, models[column])\n",
        "    prec = precision_score(y_test, models[column])\n",
        "    rec = recall_score(y_test, models[column])\n",
        "    f1 = f1_score(y_test, models[column])\n",
        "    \n",
        "    mathew = matthews_corrcoef(y_test, models[column])\n",
        "    results =pd.DataFrame([[column,acc, prec,rec,specificity, f1,roc, loss_log,mathew]],\n",
        "               columns = ['Model', 'Accuracy','Precision', 'Sensitivity','Specificity', 'F1 Score','ROC','Log_Loss','mathew_corrcoef'])\n",
        "    model_results = model_results.append(results, ignore_index = True)\n",
        "\n",
        "model_results"
      ],
      "execution_count": null,
      "outputs": [
        {
          "output_type": "execute_result",
          "data": {
            "text/html": [
              "<div>\n",
              "<style scoped>\n",
              "    .dataframe tbody tr th:only-of-type {\n",
              "        vertical-align: middle;\n",
              "    }\n",
              "\n",
              "    .dataframe tbody tr th {\n",
              "        vertical-align: top;\n",
              "    }\n",
              "\n",
              "    .dataframe thead th {\n",
              "        text-align: right;\n",
              "    }\n",
              "</style>\n",
              "<table border=\"1\" class=\"dataframe\">\n",
              "  <thead>\n",
              "    <tr style=\"text-align: right;\">\n",
              "      <th></th>\n",
              "      <th>Model</th>\n",
              "      <th>Accuracy</th>\n",
              "      <th>Precision</th>\n",
              "      <th>Sensitivity</th>\n",
              "      <th>Specificity</th>\n",
              "      <th>F1 Score</th>\n",
              "      <th>ROC</th>\n",
              "      <th>Log_Loss</th>\n",
              "      <th>mathew_corrcoef</th>\n",
              "    </tr>\n",
              "  </thead>\n",
              "  <tbody>\n",
              "    <tr>\n",
              "      <th>0</th>\n",
              "      <td>Random Forest</td>\n",
              "      <td>0.885106</td>\n",
              "      <td>0.847826</td>\n",
              "      <td>0.951220</td>\n",
              "      <td>0.812500</td>\n",
              "      <td>0.896552</td>\n",
              "      <td>0.881860</td>\n",
              "      <td>3.968356</td>\n",
              "      <td>0.774765</td>\n",
              "    </tr>\n",
              "    <tr>\n",
              "      <th>1</th>\n",
              "      <td>MLP</td>\n",
              "      <td>0.838298</td>\n",
              "      <td>0.810219</td>\n",
              "      <td>0.902439</td>\n",
              "      <td>0.767857</td>\n",
              "      <td>0.853846</td>\n",
              "      <td>0.835148</td>\n",
              "      <td>5.585082</td>\n",
              "      <td>0.678977</td>\n",
              "    </tr>\n",
              "    <tr>\n",
              "      <th>2</th>\n",
              "      <td>EXtra tree classifier</td>\n",
              "      <td>0.893617</td>\n",
              "      <td>0.871212</td>\n",
              "      <td>0.934959</td>\n",
              "      <td>0.848214</td>\n",
              "      <td>0.901961</td>\n",
              "      <td>0.891587</td>\n",
              "      <td>3.674396</td>\n",
              "      <td>0.788341</td>\n",
              "    </tr>\n",
              "    <tr>\n",
              "      <th>3</th>\n",
              "      <td>XGB</td>\n",
              "      <td>0.919149</td>\n",
              "      <td>0.906250</td>\n",
              "      <td>0.943089</td>\n",
              "      <td>0.892857</td>\n",
              "      <td>0.924303</td>\n",
              "      <td>0.917973</td>\n",
              "      <td>2.792538</td>\n",
              "      <td>0.838384</td>\n",
              "    </tr>\n",
              "    <tr>\n",
              "      <th>4</th>\n",
              "      <td>SVC</td>\n",
              "      <td>0.825532</td>\n",
              "      <td>0.801471</td>\n",
              "      <td>0.886179</td>\n",
              "      <td>0.758929</td>\n",
              "      <td>0.841699</td>\n",
              "      <td>0.822554</td>\n",
              "      <td>6.026006</td>\n",
              "      <td>0.652539</td>\n",
              "    </tr>\n",
              "    <tr>\n",
              "      <th>5</th>\n",
              "      <td>SGD</td>\n",
              "      <td>0.748936</td>\n",
              "      <td>0.890244</td>\n",
              "      <td>0.593496</td>\n",
              "      <td>0.919643</td>\n",
              "      <td>0.712195</td>\n",
              "      <td>0.756569</td>\n",
              "      <td>8.671468</td>\n",
              "      <td>0.537705</td>\n",
              "    </tr>\n",
              "    <tr>\n",
              "      <th>6</th>\n",
              "      <td>Adaboost</td>\n",
              "      <td>0.834043</td>\n",
              "      <td>0.813433</td>\n",
              "      <td>0.886179</td>\n",
              "      <td>0.776786</td>\n",
              "      <td>0.848249</td>\n",
              "      <td>0.831482</td>\n",
              "      <td>5.732052</td>\n",
              "      <td>0.668866</td>\n",
              "    </tr>\n",
              "    <tr>\n",
              "      <th>7</th>\n",
              "      <td>CART</td>\n",
              "      <td>0.838298</td>\n",
              "      <td>0.829457</td>\n",
              "      <td>0.869919</td>\n",
              "      <td>0.803571</td>\n",
              "      <td>0.849206</td>\n",
              "      <td>0.836745</td>\n",
              "      <td>5.585068</td>\n",
              "      <td>0.675997</td>\n",
              "    </tr>\n",
              "    <tr>\n",
              "      <th>8</th>\n",
              "      <td>GBM</td>\n",
              "      <td>0.851064</td>\n",
              "      <td>0.833333</td>\n",
              "      <td>0.894309</td>\n",
              "      <td>0.803571</td>\n",
              "      <td>0.862745</td>\n",
              "      <td>0.848940</td>\n",
              "      <td>5.144148</td>\n",
              "      <td>0.702485</td>\n",
              "    </tr>\n",
              "  </tbody>\n",
              "</table>\n",
              "</div>"
            ],
            "text/plain": [
              "                   Model  Accuracy  ...  Log_Loss  mathew_corrcoef\n",
              "0          Random Forest  0.885106  ...  3.968356         0.774765\n",
              "1                    MLP  0.838298  ...  5.585082         0.678977\n",
              "2  EXtra tree classifier  0.893617  ...  3.674396         0.788341\n",
              "3                    XGB  0.919149  ...  2.792538         0.838384\n",
              "4                    SVC  0.825532  ...  6.026006         0.652539\n",
              "5                    SGD  0.748936  ...  8.671468         0.537705\n",
              "6               Adaboost  0.834043  ...  5.732052         0.668866\n",
              "7                   CART  0.838298  ...  5.585068         0.675997\n",
              "8                    GBM  0.851064  ...  5.144148         0.702485\n",
              "\n",
              "[9 rows x 9 columns]"
            ]
          },
          "metadata": {},
          "execution_count": 69
        }
      ]
    },
    {
      "cell_type": "markdown",
      "metadata": {
        "id": "00JW78UHlMRL"
      },
      "source": [
        "Xgboost performs well"
      ]
    },
    {
      "cell_type": "code",
      "metadata": {
        "id": "qTgOfB9PlGPo"
      },
      "source": [
        ""
      ],
      "execution_count": null,
      "outputs": []
    }
  ]
}